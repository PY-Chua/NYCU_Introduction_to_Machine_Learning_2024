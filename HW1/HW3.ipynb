{
 "cells": [
  {
   "cell_type": "code",
   "execution_count": 2,
   "metadata": {},
   "outputs": [],
   "source": [
    "import torch\n",
    "import torchvision\n",
    "import torchvision.transforms as transforms\n",
    "import numpy as np\n",
    "import matplotlib.pyplot as plt"
   ]
  },
  {
   "cell_type": "code",
   "execution_count": 3,
   "metadata": {},
   "outputs": [],
   "source": [
    "batch_size = 64\n",
    "\n",
    "transform = transforms.Compose([transforms.ToTensor()])\n",
    "\n",
    "trainset = torchvision.datasets.MNIST(\n",
    "    root=\"./data\", train=True, download=True, transform=transform\n",
    ")\n",
    "trainloader = torch.utils.data.DataLoader(trainset, batch_size=batch_size, shuffle=True)\n",
    "testset = torchvision.datasets.MNIST(\n",
    "    root=\"./data\", train=False, download=True, transform=transform\n",
    ")\n",
    "testloader = torch.utils.data.DataLoader(testset, batch_size=64, shuffle=False)"
   ]
  },
  {
   "cell_type": "code",
   "execution_count": 4,
   "metadata": {},
   "outputs": [],
   "source": [
    "def dataloader_to_numpy(dataloader):\n",
    "    data = []\n",
    "    labels = []\n",
    "    for images, targets in dataloader:\n",
    "        # data.extend(images.numpy().reshape(-1, 28, 28))\n",
    "        batch_size = images.size(0)\n",
    "        data.extend(images.view(batch_size, -1).numpy())\n",
    "        labels.extend(targets.numpy())\n",
    "    return np.array(data), np.array(labels)"
   ]
  },
  {
   "cell_type": "code",
   "execution_count": 5,
   "metadata": {},
   "outputs": [
    {
     "name": "stdout",
     "output_type": "stream",
     "text": [
      "Training data shape: (60000, 784)\n",
      "Training labels shape: (60000,)\n",
      "Test data shape: (10000, 784)\n",
      "Test labels shape: (10000,)\n"
     ]
    }
   ],
   "source": [
    "train_data, train_labels = dataloader_to_numpy(trainloader)\n",
    "test_data, test_labels = dataloader_to_numpy(testloader)\n",
    "\n",
    "print(\"Training data shape:\", train_data.shape)\n",
    "print(\"Training labels shape:\", train_labels.shape)\n",
    "print(\"Test data shape:\", test_data.shape)\n",
    "print(\"Test labels shape:\", test_labels.shape)"
   ]
  },
  {
   "cell_type": "code",
   "execution_count": 6,
   "metadata": {},
   "outputs": [],
   "source": [
    "\n",
    "class DNN_1Layer:\n",
    "    def __init__(self, x, y, neuron, learning_rate=0.01) -> None:\n",
    "        self.bias = self.build_basis_function(x)\n",
    "        self.labels = np.unique(y)\n",
    "        self.one_hot_encoded = np.eye(len(self.labels))[y]\n",
    "        self.weight1 = self.build_weight_init((self.bias.shape[1], neuron))\n",
    "        self.weight2 = self.build_weight_init((neuron + 1, len(self.labels)))\n",
    "        self.lr = learning_rate\n",
    "    \n",
    "    @staticmethod\n",
    "    def build_weight_init(shape):\n",
    "        input_size, output_size = shape\n",
    "        limit = np.sqrt(6.0 / (input_size + output_size))\n",
    "        weights = np.random.uniform(-limit, limit, shape)\n",
    "        return weights\n",
    "    \n",
    "    @staticmethod\n",
    "    def build_basis_function(x):\n",
    "        return np.hstack((np.ones((x.shape[0], 1)), x))\n",
    "    \n",
    "    @staticmethod\n",
    "    def sigmoid(x):\n",
    "        return 1 / (1 + np.exp(-x))\n",
    "\n",
    "    @staticmethod\n",
    "    def softmax(x):\n",
    "        exps = np.exp(x - np.max(x, axis=1, keepdims=True))\n",
    "        return exps / np.sum(exps, axis=1, keepdims=True)\n",
    "\n",
    "    @staticmethod\n",
    "    def cross_entropy(y_true, y_pred):\n",
    "        return -np.sum(y_true * np.log(y_pred + 1e-9)) / len(y_true)\n",
    "    \n",
    "    @staticmethod\n",
    "    def accuracy(y_true, y_pred):\n",
    "        return np.mean(np.argmax(y_true, axis=1) == np.argmax(y_pred, axis=1))\n",
    "    \n",
    "    def forward(self, a0):\n",
    "        z0 = self.build_basis_function(a0)\n",
    "        a1 = z0 @ self.weight1\n",
    "        z1 = self.sigmoid(a1)\n",
    "        z1 = self.build_basis_function(z1)\n",
    "        a2 = z1 @ self.weight2\n",
    "        z2 = self.softmax(a2)\n",
    "        return z0, a1, z1, a2, z2\n",
    "    \n",
    "    def backward(self, z0, a1, z1, a2, z2, y):\n",
    "        delta_k = z2 - y\n",
    "        delta_w2 = z1.T @ delta_k\n",
    "        delta_j = self.sigmoid_backward(a1) * (delta_k @ self.weight2[1:, :].T)\n",
    "        delta_w1 = z0.T @ delta_j\n",
    "        return delta_w2, delta_w1\n",
    "    \n",
    "    def update(self, delta_w2, delta_w1):\n",
    "        self.weight1 -= self.lr * delta_w1\n",
    "        self.weight2 -= self.lr * delta_w2\n",
    "    \n",
    "    def sigmoid_backward(self, x):\n",
    "        return self.sigmoid(x) * (1 - self.sigmoid(x))\n",
    "\n",
    "    def train(self, X, y, epochs=10, batch_size=32, shuffle=True):\n",
    "        accuracies = []\n",
    "        for epoch in range(epochs):\n",
    "            '''\n",
    "            if shuffle:\n",
    "                X, y = self.shuffle_data(X, y)\n",
    "            '''\n",
    "            total_loss = 0\n",
    "            total_acc = 0\n",
    "            for i in range(0, len(X), batch_size):\n",
    "                X_batch = X[i:i+batch_size]\n",
    "                y_batch = y[i:i+batch_size]\n",
    "                z0, a1, z1, a2, z2 = self.forward(X_batch)\n",
    "                delta_w2, delta_w1 = self.backward(z0, a1, z1, a2, z2, y_batch)\n",
    "                self.update(delta_w2, delta_w1)\n",
    "                loss = self.cross_entropy(y_batch, z2)\n",
    "                acc = self.accuracy(y_batch, z2)\n",
    "                total_loss += loss * len(X_batch)\n",
    "                total_acc += acc * len(X_batch)\n",
    "            total_loss /= len(X)\n",
    "            total_acc /= len(X)\n",
    "            print(f'Epoch {epoch+1}/{epochs} - Loss: {total_loss:.4f} - Accuracy: {total_acc:.4f}')\n",
    "            accuracies.append(total_acc)\n",
    "        return np.mean(accuracies)\n",
    "    \n",
    "    def shuffle_data(self, X, y):\n",
    "        indices = np.arange(len(X))\n",
    "        np.random.shuffle(indices)\n",
    "        return X[indices], y[indices]"
   ]
  },
  {
   "cell_type": "code",
   "execution_count": 7,
   "metadata": {},
   "outputs": [
    {
     "name": "stdout",
     "output_type": "stream",
     "text": [
      "Epoch 1/10 - Loss: 0.7283 - Accuracy: 0.8042\n",
      "Epoch 2/10 - Loss: 0.4922 - Accuracy: 0.8599\n",
      "Epoch 3/10 - Loss: 0.4648 - Accuracy: 0.8659\n",
      "Epoch 4/10 - Loss: 0.4526 - Accuracy: 0.8688\n",
      "Epoch 5/10 - Loss: 0.4455 - Accuracy: 0.8712\n",
      "Epoch 6/10 - Loss: 0.4401 - Accuracy: 0.8727\n",
      "Epoch 7/10 - Loss: 0.4351 - Accuracy: 0.8736\n",
      "Epoch 8/10 - Loss: 0.4303 - Accuracy: 0.8746\n",
      "Epoch 9/10 - Loss: 0.4253 - Accuracy: 0.8763\n",
      "Epoch 10/10 - Loss: 0.4196 - Accuracy: 0.8777\n",
      "Epoch 1/10 - Loss: 0.5328 - Accuracy: 0.8566\n",
      "Epoch 2/10 - Loss: 0.3157 - Accuracy: 0.9093\n",
      "Epoch 3/10 - Loss: 0.2857 - Accuracy: 0.9167\n",
      "Epoch 4/10 - Loss: 0.2696 - Accuracy: 0.9217\n",
      "Epoch 5/10 - Loss: 0.2580 - Accuracy: 0.9258\n",
      "Epoch 6/10 - Loss: 0.2490 - Accuracy: 0.9278\n",
      "Epoch 7/10 - Loss: 0.2422 - Accuracy: 0.9301\n",
      "Epoch 8/10 - Loss: 0.2370 - Accuracy: 0.9318\n",
      "Epoch 9/10 - Loss: 0.2327 - Accuracy: 0.9330\n",
      "Epoch 10/10 - Loss: 0.2291 - Accuracy: 0.9336\n",
      "Epoch 1/10 - Loss: 0.4234 - Accuracy: 0.8872\n",
      "Epoch 2/10 - Loss: 0.2320 - Accuracy: 0.9342\n",
      "Epoch 3/10 - Loss: 0.1974 - Accuracy: 0.9440\n",
      "Epoch 4/10 - Loss: 0.1768 - Accuracy: 0.9493\n",
      "Epoch 5/10 - Loss: 0.1619 - Accuracy: 0.9531\n",
      "Epoch 6/10 - Loss: 0.1505 - Accuracy: 0.9562\n",
      "Epoch 7/10 - Loss: 0.1414 - Accuracy: 0.9588\n",
      "Epoch 8/10 - Loss: 0.1339 - Accuracy: 0.9611\n",
      "Epoch 9/10 - Loss: 0.1277 - Accuracy: 0.9633\n",
      "Epoch 10/10 - Loss: 0.1225 - Accuracy: 0.9649\n",
      "Epoch 1/10 - Loss: 0.3848 - Accuracy: 0.8919\n",
      "Epoch 2/10 - Loss: 0.2049 - Accuracy: 0.9406\n",
      "Epoch 3/10 - Loss: 0.1578 - Accuracy: 0.9544\n",
      "Epoch 4/10 - Loss: 0.1303 - Accuracy: 0.9624\n",
      "Epoch 5/10 - Loss: 0.1118 - Accuracy: 0.9678\n",
      "Epoch 6/10 - Loss: 0.0983 - Accuracy: 0.9716\n",
      "Epoch 7/10 - Loss: 0.0880 - Accuracy: 0.9748\n",
      "Epoch 8/10 - Loss: 0.0798 - Accuracy: 0.9774\n",
      "Epoch 9/10 - Loss: 0.0731 - Accuracy: 0.9794\n",
      "Epoch 10/10 - Loss: 0.0674 - Accuracy: 0.9812\n",
      "Epoch 1/10 - Loss: 0.3812 - Accuracy: 0.8891\n",
      "Epoch 2/10 - Loss: 0.1967 - Accuracy: 0.9426\n",
      "Epoch 3/10 - Loss: 0.1491 - Accuracy: 0.9568\n",
      "Epoch 4/10 - Loss: 0.1220 - Accuracy: 0.9649\n",
      "Epoch 5/10 - Loss: 0.1039 - Accuracy: 0.9704\n",
      "Epoch 6/10 - Loss: 0.0906 - Accuracy: 0.9744\n"
     ]
    },
    {
     "ename": "KeyboardInterrupt",
     "evalue": "",
     "output_type": "error",
     "traceback": [
      "\u001b[0;31m---------------------------------------------------------------------------\u001b[0m",
      "\u001b[0;31mKeyboardInterrupt\u001b[0m                         Traceback (most recent call last)",
      "Cell \u001b[0;32mIn[7], line 6\u001b[0m\n\u001b[1;32m      4\u001b[0m \u001b[38;5;28;01mfor\u001b[39;00m neuron \u001b[38;5;129;01min\u001b[39;00m hidden_size:\n\u001b[1;32m      5\u001b[0m     model \u001b[38;5;241m=\u001b[39m DNN_1Layer(train_data, train_labels, neuron\u001b[38;5;241m=\u001b[39mneuron, learning_rate\u001b[38;5;241m=\u001b[39m\u001b[38;5;241m0.01\u001b[39m)\n\u001b[0;32m----> 6\u001b[0m     \u001b[43mmodel\u001b[49m\u001b[38;5;241;43m.\u001b[39;49m\u001b[43mtrain\u001b[49m\u001b[43m(\u001b[49m\u001b[43mtrain_data\u001b[49m\u001b[43m,\u001b[49m\u001b[43m \u001b[49m\u001b[43mmodel\u001b[49m\u001b[38;5;241;43m.\u001b[39;49m\u001b[43mone_hot_encoded\u001b[49m\u001b[43m,\u001b[49m\u001b[43m \u001b[49m\u001b[43mepochs\u001b[49m\u001b[38;5;241;43m=\u001b[39;49m\u001b[38;5;241;43m10\u001b[39;49m\u001b[43m,\u001b[49m\u001b[43m \u001b[49m\u001b[43mbatch_size\u001b[49m\u001b[38;5;241;43m=\u001b[39;49m\u001b[43mbatch_size\u001b[49m\u001b[43m)\u001b[49m\n\u001b[1;32m      8\u001b[0m     \u001b[38;5;66;03m# Compute training accuracy\u001b[39;00m\n\u001b[1;32m      9\u001b[0m     train_output \u001b[38;5;241m=\u001b[39m model\u001b[38;5;241m.\u001b[39mforward(train_data)[\u001b[38;5;241m-\u001b[39m\u001b[38;5;241m1\u001b[39m]\n",
      "Cell \u001b[0;32mIn[6], line 75\u001b[0m, in \u001b[0;36mDNN_1Layer.train\u001b[0;34m(self, X, y, epochs, batch_size, shuffle)\u001b[0m\n\u001b[1;32m     73\u001b[0m z0, a1, z1, a2, z2 \u001b[38;5;241m=\u001b[39m \u001b[38;5;28mself\u001b[39m\u001b[38;5;241m.\u001b[39mforward(X_batch)\n\u001b[1;32m     74\u001b[0m delta_w2, delta_w1 \u001b[38;5;241m=\u001b[39m \u001b[38;5;28mself\u001b[39m\u001b[38;5;241m.\u001b[39mbackward(z0, a1, z1, a2, z2, y_batch)\n\u001b[0;32m---> 75\u001b[0m \u001b[38;5;28;43mself\u001b[39;49m\u001b[38;5;241;43m.\u001b[39;49m\u001b[43mupdate\u001b[49m\u001b[43m(\u001b[49m\u001b[43mdelta_w2\u001b[49m\u001b[43m,\u001b[49m\u001b[43m \u001b[49m\u001b[43mdelta_w1\u001b[49m\u001b[43m)\u001b[49m\n\u001b[1;32m     76\u001b[0m loss \u001b[38;5;241m=\u001b[39m \u001b[38;5;28mself\u001b[39m\u001b[38;5;241m.\u001b[39mcross_entropy(y_batch, z2)\n\u001b[1;32m     77\u001b[0m acc \u001b[38;5;241m=\u001b[39m \u001b[38;5;28mself\u001b[39m\u001b[38;5;241m.\u001b[39maccuracy(y_batch, z2)\n",
      "Cell \u001b[0;32mIn[6], line 54\u001b[0m, in \u001b[0;36mDNN_1Layer.update\u001b[0;34m(self, delta_w2, delta_w1)\u001b[0m\n\u001b[1;32m     51\u001b[0m     delta_w1 \u001b[38;5;241m=\u001b[39m z0\u001b[38;5;241m.\u001b[39mT \u001b[38;5;241m@\u001b[39m delta_j\n\u001b[1;32m     52\u001b[0m     \u001b[38;5;28;01mreturn\u001b[39;00m delta_w2, delta_w1\n\u001b[0;32m---> 54\u001b[0m \u001b[38;5;28;01mdef\u001b[39;00m \u001b[38;5;21mupdate\u001b[39m(\u001b[38;5;28mself\u001b[39m, delta_w2, delta_w1):\n\u001b[1;32m     55\u001b[0m     \u001b[38;5;28mself\u001b[39m\u001b[38;5;241m.\u001b[39mweight1 \u001b[38;5;241m-\u001b[39m\u001b[38;5;241m=\u001b[39m \u001b[38;5;28mself\u001b[39m\u001b[38;5;241m.\u001b[39mlr \u001b[38;5;241m*\u001b[39m delta_w1\n\u001b[1;32m     56\u001b[0m     \u001b[38;5;28mself\u001b[39m\u001b[38;5;241m.\u001b[39mweight2 \u001b[38;5;241m-\u001b[39m\u001b[38;5;241m=\u001b[39m \u001b[38;5;28mself\u001b[39m\u001b[38;5;241m.\u001b[39mlr \u001b[38;5;241m*\u001b[39m delta_w2\n",
      "\u001b[0;31mKeyboardInterrupt\u001b[0m: "
     ]
    }
   ],
   "source": [
    "hidden_size = [5, 10, 20, 50, 75, 100]\n",
    "train_accuracies = []\n",
    "test_accuracies = []\n",
    "for neuron in hidden_size:\n",
    "    model = DNN_1Layer(train_data, train_labels, neuron=neuron, learning_rate=0.01)\n",
    "    model.train(train_data, model.one_hot_encoded, epochs=10, batch_size=batch_size)\n",
    "    \n",
    "    # Compute training accuracy\n",
    "    train_output = model.forward(train_data)[-1]\n",
    "    train_accuracy = model.accuracy(model.one_hot_encoded, train_output)\n",
    "    train_accuracies.append(train_accuracy)\n",
    "    \n",
    "    # Compute testing accuracy\n",
    "    test_output = model.forward(test_data)[-1]\n",
    "    test_accuracy = model.accuracy(np.eye(10)[test_labels], test_output)\n",
    "    test_accuracies.append(test_accuracy)\n",
    "    "
   ]
  },
  {
   "cell_type": "code",
   "execution_count": null,
   "metadata": {},
   "outputs": [
    {
     "data": {
      "image/png": "[encoded data removed]",
      "text/plain": [
       "<Figure size 640x480 with 1 Axes>"
      ]
     },
     "metadata": {},
     "output_type": "display_data"
    }
   ],
   "source": [
    "plt.plot(hidden_size, train_accuracies, label='Training Accuracy')\n",
    "plt.plot(hidden_size, test_accuracies, label='Testing Accuracy')\n",
    "plt.xlabel('Number of Neurons')\n",
    "plt.ylabel('Accuracy')\n",
    "plt.title('Accuracy vs Number of Neurons')\n",
    "plt.legend()\n",
    "plt.show()"
   ]
  }
 ],
 "metadata": {
  "kernelspec": {
   "display_name": ".venv",
   "language": "python",
   "name": "python3"
  },
  "language_info": {
   "codemirror_mode": {
    "name": "ipython",
    "version": 3
   },
   "file_extension": ".py",
   "mimetype": "text/x-python",
   "name": "python",
   "nbconvert_exporter": "python",
   "pygments_lexer": "ipython3",
   "version": "3.11.8"
  }
 },
 "nbformat": 4,
 "nbformat_minor": 2
}
